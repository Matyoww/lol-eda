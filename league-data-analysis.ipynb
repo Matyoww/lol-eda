{
 "cells": [
  {
   "cell_type": "code",
   "execution_count": null,
   "metadata": {},
   "outputs": [],
   "source": [
    "import os\n",
    "import requests\n",
    "import utils\n",
    "import pandas as pd\n",
    "import matplotlib.pyplot as plt\n",
    "from lol_backend_service import RiotAPI\n",
    "from constants import Clusters\n",
    "from dotenv import load_dotenv\n",
    "\n",
    "load_dotenv()"
   ]
  },
  {
   "cell_type": "code",
   "execution_count": null,
   "metadata": {},
   "outputs": [],
   "source": [
    "riot_api = RiotAPI(os.getenv(\"PERSONAL_API_KEY\"))\n",
    "game_name = os.getenv(\"PERSONAL_GAME_NAME\")\n",
    "tagline = str(os.getenv(\"PERSONAL_TAGLINE\"))"
   ]
  },
  {
   "cell_type": "markdown",
   "metadata": {},
   "source": [
    "## Getting the feel of the API"
   ]
  },
  {
   "cell_type": "markdown",
   "metadata": {},
   "source": [
    "### Get PUUID"
   ]
  },
  {
   "cell_type": "code",
   "execution_count": null,
   "metadata": {},
   "outputs": [],
   "source": [
    "player_puuid = riot_api.get_puuid_by_riot_id(game_name, tagline)\n",
    "player_puuid"
   ]
  },
  {
   "cell_type": "markdown",
   "metadata": {},
   "source": [
    "### Get Free Champion Rotation"
   ]
  },
  {
   "cell_type": "code",
   "execution_count": null,
   "metadata": {},
   "outputs": [],
   "source": [
    "curr_free_champ = utils.get_champion_mapping(riot_api.get_free_champ_rotation('PH2'))\n",
    "curr_free_champ"
   ]
  },
  {
   "cell_type": "markdown",
   "metadata": {},
   "source": [
    "## Data fetching"
   ]
  },
  {
   "cell_type": "markdown",
   "metadata": {},
   "source": [
    "### Convert match data to dataframe"
   ]
  },
  {
   "cell_type": "code",
   "execution_count": null,
   "metadata": {},
   "outputs": [],
   "source": [
    "match_list = riot_api.get_match_list(\"SEA\", player_puuid, count=90)"
   ]
  },
  {
   "cell_type": "code",
   "execution_count": null,
   "metadata": {},
   "outputs": [],
   "source": [
    "player_match_list = []\n",
    "df_player_matches = pd.DataFrame()\n",
    "if os.path.exists(f'./player_matches/{game_name}_{tagline}_matches.csv'):\n",
    "    df_player_matches = pd.read_csv(f'./player_matches/{game_name}_{tagline}_matches.csv')\n",
    "else:\n",
    "    for match_id in match_list:\n",
    "        match_data = riot_api.get_match_data(\"SEA\", match_id)\n",
    "        match_game_mode = match_data['info']['gameMode']\n",
    "\n",
    "        match_data = utils.extract_player_match_data(match_data, game_name, tagline)\n",
    "        match_data = {x: match_data[x] for x in match_data if x not in ['challenges', 'missions', 'perks']}\n",
    "        match_data = pd.Series(match_data)\n",
    "\n",
    "        match_data['matchId'] = match_id\n",
    "        match_data['gameMode'] = match_game_mode\n",
    "\n",
    "        player_match_list.append(match_data)\n",
    "\n",
    "    df_player_matches = pd.DataFrame(player_match_list)\n",
    "    df_player_matches.to_csv(f'./player_matches/{game_name}_{tagline}_matches.csv', index=False)"
   ]
  },
  {
   "cell_type": "markdown",
   "metadata": {},
   "source": [
    "## Data Analysis"
   ]
  },
  {
   "cell_type": "markdown",
   "metadata": {},
   "source": [
    "### Grouping columns for Data Analysis"
   ]
  },
  {
   "cell_type": "code",
   "execution_count": null,
   "metadata": {},
   "outputs": [],
   "source": [
    "metadata_list = ['matchId', 'participants']\n",
    "combat_list = ['matchId', 'gameMode', 'puuid', 'summonerName', 'teamPosition', 'kills', 'deaths', 'assists', 'firstBloodKill', 'firstBloodAssist', 'goldEarned', 'totalDamageDealt', 'totalDamageDealtToChampions', 'totalDamageTaken', 'totalMinionsKilled', 'visionScore', 'win']\n",
    "ping_list = ['matchId', 'puuid', 'summonerName', 'allInPings', 'assistMePings', 'basicPings', 'commandPings', 'dangerPings', 'enemyMissingPings', 'enemyVisionPings', 'getBackPings', 'holdPings', 'needVisionPings', 'onMyWayPings', 'pushPings', 'retreatPings', 'visionClearedPings']"
   ]
  },
  {
   "cell_type": "markdown",
   "metadata": {},
   "source": [
    "### Combat Analysis"
   ]
  },
  {
   "cell_type": "code",
   "execution_count": null,
   "metadata": {},
   "outputs": [],
   "source": [
    "df_combat = df_player_matches[combat_list]\n",
    "df_combat.head()"
   ]
  },
  {
   "cell_type": "code",
   "execution_count": null,
   "metadata": {},
   "outputs": [],
   "source": [
    "df_combat.describe()"
   ]
  },
  {
   "cell_type": "markdown",
   "metadata": {},
   "source": [
    "### Descriptive Analysis for each player"
   ]
  },
  {
   "cell_type": "code",
   "execution_count": null,
   "metadata": {},
   "outputs": [],
   "source": [
    "fig, ax = plt.subplots(figsize=(10, 6))\n",
    "barh_plot = ax.barh(df_combat['gameMode'].value_counts().index, df_combat['gameMode'].value_counts().values)\n",
    "ax.set_title('Game Mode Distribution')\n",
    "ax.bar_label(barh_plot)\n",
    "plt.show()"
   ]
  },
  {
   "cell_type": "code",
   "execution_count": null,
   "metadata": {},
   "outputs": [],
   "source": [
    "fig, ax = plt.subplots(figsize=(10, 6))\n",
    "\n",
    "win_count = df_combat['win'].value_counts()\n",
    "win_count.index = win_count.index.map({True: 'Win', False: 'Loss'})\n",
    "\n",
    "barh_plot = ax.barh(win_count.index, win_count.values)\n",
    "ax.set_title('Win Distribution')\n",
    "\n",
    "ax.bar_label(barh_plot)\n",
    "plt.show()"
   ]
  },
  {
   "cell_type": "code",
   "execution_count": null,
   "metadata": {},
   "outputs": [],
   "source": [
    "# plot normal distribution of gold earned\n",
    "fig, ax = plt.subplots(figsize=(10, 6))\n",
    "ax.plot(df_combat['goldEarned'])\n",
    "ax.set_title('Gold Earned Distribution')\n",
    "plt.show()"
   ]
  },
  {
   "cell_type": "code",
   "execution_count": null,
   "metadata": {},
   "outputs": [],
   "source": [
    "# plot normal distribution using seaborn\n",
    "import seaborn as sns\n",
    "\n",
    "fig, ax = plt.subplots(figsize=(10, 6))\n",
    "sns.histplot(df_combat['goldEarned'], kde=True, ax=ax)\n",
    "ax.set_title('Gold Earned Distribution')\n",
    "plt.show()"
   ]
  },
  {
   "cell_type": "markdown",
   "metadata": {},
   "source": [
    "### Ping Analysis (for fun)"
   ]
  },
  {
   "cell_type": "code",
   "execution_count": null,
   "metadata": {},
   "outputs": [],
   "source": [
    "df_player_matches[ping_list].head()\n",
    "df_player_matches[ping_list].to_csv(f'./player_matches/{game_name}_{tagline}_pings.csv', index=False)"
   ]
  }
 ],
 "metadata": {
  "kernelspec": {
   "display_name": "lol-eda-uw6IKfeQ-py3.11",
   "language": "python",
   "name": "python3"
  },
  "language_info": {
   "codemirror_mode": {
    "name": "ipython",
    "version": 3
   },
   "file_extension": ".py",
   "mimetype": "text/x-python",
   "name": "python",
   "nbconvert_exporter": "python",
   "pygments_lexer": "ipython3",
   "version": "3.11.5"
  }
 },
 "nbformat": 4,
 "nbformat_minor": 2
}
